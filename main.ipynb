{
 "cells": [
  {
   "cell_type": "code",
   "execution_count": 1,
   "metadata": {},
   "outputs": [],
   "source": [
    "import random\n",
    "import math"
   ]
  },
  {
   "cell_type": "code",
   "execution_count": 2,
   "metadata": {},
   "outputs": [],
   "source": [
    "\n",
    "\n",
    "with open(\"english.txt\", encoding=\"utf-8\") as f:\n",
    "    english_words = f.read().split()\n",
    "    # shuffle english words\n",
    "    random.shuffle(english_words)\n",
    "\n",
    "with open(\"filtered_french.txt\", encoding=\"utf-8\") as f:\n",
    "    french_words = f.read().split()\n",
    "    # shuffle french words\n",
    "    random.shuffle(french_words)\n"
   ]
  },
  {
   "cell_type": "code",
   "execution_count": 3,
   "metadata": {},
   "outputs": [
    {
     "data": {
      "text/plain": [
       "(5321218, 10, 0.0010000006489294653)"
      ]
     },
     "execution_count": 3,
     "metadata": {},
     "output_type": "execute_result"
    }
   ],
   "source": [
    "# Parameters for the Bloom filter\n",
    "n = len(english_words)  # Number of elements (words in the dictionary)\n",
    "p = 0.001    # Desired false positive probability\n",
    "\n",
    "# Calculating the size of the bit array (m)\n",
    "m = -(n * math.log(p)) / (math.log(2) ** 2)\n",
    "\n",
    "# Calculating the optimal number of hash functions (k)\n",
    "k = (m / n) * math.log(2)\n",
    "\n",
    "fp = (1 - (1 - (1 / m)) ** (n * k)) ** k\n",
    "\n",
    "m = math.ceil(m)\n",
    "k = math.ceil(k)\n",
    "\n",
    "m, k, fp\n"
   ]
  },
  {
   "cell_type": "code",
   "execution_count": 4,
   "metadata": {},
   "outputs": [],
   "source": [
    "from bloom_filter import BloomFilter\n",
    "\n",
    "bloom_filter = BloomFilter(size=m)\n",
    "\n",
    "for word in english_words:\n",
    "    bloom_filter.insert(word)"
   ]
  },
  {
   "cell_type": "code",
   "execution_count": 5,
   "metadata": {},
   "outputs": [],
   "source": [
    "false_positives = []\n",
    "\n",
    "for word in french_words:\n",
    "    if bloom_filter.lookup(word) == \"Maybe\":\n",
    "        false_positives.append(word)\n"
   ]
  },
  {
   "cell_type": "code",
   "execution_count": 6,
   "metadata": {},
   "outputs": [
    {
     "data": {
      "text/plain": [
       "(415, 318518, 0.0013029090977589963)"
      ]
     },
     "execution_count": 6,
     "metadata": {},
     "output_type": "execute_result"
    }
   ],
   "source": [
    "len(false_positives), len(french_words), len(false_positives) / len(french_words)"
   ]
  }
 ],
 "metadata": {
  "kernelspec": {
   "display_name": "bloom",
   "language": "python",
   "name": "python3"
  },
  "language_info": {
   "codemirror_mode": {
    "name": "ipython",
    "version": 3
   },
   "file_extension": ".py",
   "mimetype": "text/x-python",
   "name": "python",
   "nbconvert_exporter": "python",
   "pygments_lexer": "ipython3",
   "version": "3.10.13"
  }
 },
 "nbformat": 4,
 "nbformat_minor": 2
}
