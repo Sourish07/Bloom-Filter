{
 "cells": [
  {
   "cell_type": "code",
   "execution_count": null,
   "metadata": {},
   "outputs": [],
   "source": [
    "from itertools import permutations\n"
   ]
  },
  {
   "cell_type": "code",
   "execution_count": null,
   "metadata": {},
   "outputs": [],
   "source": [
    "# Bloom filter size\n",
    "bit_array_size = 10\n",
    "bit_array = [0] * bit_array_size\n",
    "\n",
    "# Simple hash functions\n",
    "def hash1(x):\n",
    "    return len(x) % bit_array_size\n",
    "\n",
    "def hash2(x):\n",
    "    # count the number of vowels\n",
    "    return sum(1 for char in x if char in \"aeiou\") % bit_array_size\n",
    "\n",
    "def hash3(x):\n",
    "    return sum(ord(char) for char in x) % bit_array_size\n",
    "\n",
    "def hashall(x):\n",
    "    return hash1(x), hash2(x)\n",
    "\n",
    "# insert \n",
    "# apple, (5, 2, 0)\n",
    "# raspberry (9, 2, 6)\n",
    "# banana (6, 3, 9)\n",
    "\n",
    "\n",
    "# lookup \n",
    "# mango (5, 2, 0)\n",
    "# lemon (5, 2, 9)\n",
    "\n",
    "\n",
    "\n",
    "# two hash function case:\n",
    "# apple (5, 2)\n",
    "# raspberry (9, 2)\n",
    "\n",
    "# fig 1, 3\n",
    "# banana (6, 3)\n",
    "# cherry (1, 6)\n",
    "\n",
    "# mango (5, 2)\n",
    "# strawberry (0, 2)\n",
    "# canteloupe (0, 5)"
   ]
  },
  {
   "cell_type": "code",
   "execution_count": null,
   "metadata": {},
   "outputs": [],
   "source": [
    "with open(\"small_fruits.txt\", \"r\") as file:\n",
    "    fruits = file.read().splitlines()\n",
    "    fruits = [f.lower() for f in fruits if \" \" not in f]\n",
    "    fruits = set(fruits)\n",
    "\n",
    "d = {}\n",
    "\n",
    "o = set()\n",
    "    "
   ]
  },
  {
   "cell_type": "code",
   "execution_count": null,
   "metadata": {},
   "outputs": [],
   "source": [
    "perm = permutations(fruits, 3)\n",
    "for a, b, c in perm:\n",
    "    if a not in d:\n",
    "        hash_a = hashall(a)\n",
    "        d[a] = hash_a\n",
    "    \n",
    "    if b not in d:\n",
    "        hash_b = hashall(b)\n",
    "        d[b] = hash_b\n",
    "\n",
    "    if c not in d:\n",
    "        hash_c = hashall(c)\n",
    "        d[c] = hash_c\n",
    "\n",
    "    # make sure each of three fruits have a unique pair of hashes\n",
    "    set1 = set([*d[a], *d[b]])\n",
    "    set2 = set([*d[a], *d[c]])\n",
    "    set3 = set([*d[b], *d[c]])\n",
    "\n",
    "    hashes = set([*d[a], *d[b], *d[c]])\n",
    "    if len(hashes) == 3 and len(set1) != 2 and len(set2) != 2 and len(set3) != 2:\n",
    "        # print(set1, set2, set3)\n",
    "        \n",
    "        o.add(tuple(sorted([a, b, c])))\n",
    "o"
   ]
  },
  {
   "cell_type": "code",
   "execution_count": null,
   "metadata": {},
   "outputs": [],
   "source": [
    "d = {}\n",
    "for f in fruits:\n",
    "    h1 = hash1(f)\n",
    "    h2 = hash2(f)\n",
    "    # h3 = hash3(f)\n",
    "    (h1, h2) = sorted([h1, h2])\n",
    "    if (h1, h2,) not in d:\n",
    "        d[(h1, h2)] = []\n",
    "    d[(h1, h2)].append(f)\n",
    "\n",
    "for k, v in d.items():\n",
    "    # if len(v) > 1:\n",
    "    print(k, v)"
   ]
  },
  {
   "cell_type": "code",
   "execution_count": null,
   "metadata": {},
   "outputs": [],
   "source": [
    "# Insert function\n",
    "def insert(item):\n",
    "    bit_array[hash1(item)] = 1\n",
    "    bit_array[hash2(item)] = 1\n",
    "\n",
    "# Lookup function\n",
    "def lookup(item):\n",
    "    return bit_array[hash1(item)] == 1 and bit_array[hash2(item)] == 1\n",
    "\n",
    "# Insert items\n",
    "insert(\"apple\")\n",
    "insert(\"orange\")\n",
    "insert(\"banana\")\n",
    "\n",
    "# Print the bit array after insertions\n",
    "print(\"Bit array:\", bit_array)\n",
    "\n",
    "# Lookup examples\n",
    "print(\"Lookup 'grape':\", \"Maybe\" if lookup(\"grape\") else \"No\")\n",
    "print(\"Lookup 'banana':\", \"Maybe\" if lookup(\"banana\") else \"No\")\n"
   ]
  },
  {
   "cell_type": "code",
   "execution_count": null,
   "metadata": {},
   "outputs": [],
   "source": []
  }
 ],
 "metadata": {
  "kernelspec": {
   "display_name": "bloom",
   "language": "python",
   "name": "python3"
  },
  "language_info": {
   "codemirror_mode": {
    "name": "ipython",
    "version": 3
   },
   "file_extension": ".py",
   "mimetype": "text/x-python",
   "name": "python",
   "nbconvert_exporter": "python",
   "pygments_lexer": "ipython3",
   "version": "3.10.13"
  }
 },
 "nbformat": 4,
 "nbformat_minor": 2
}
